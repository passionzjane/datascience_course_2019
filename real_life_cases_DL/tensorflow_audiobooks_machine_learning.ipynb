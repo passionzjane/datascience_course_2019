{
 "cells": [
  {
   "cell_type": "code",
   "execution_count": 4,
   "metadata": {},
   "outputs": [],
   "source": [
    "import numpy as np\n",
    "\n",
    "class audiobooks_data_reader ():\n",
    "    def _init_(self, dataset, batch_size = None):\n",
    "        npz = np.load(\"audiobooks_data_{0}.npz\".format(dataset))\n",
    "        \n",
    "        self.inputs, self.targets = npz['inputs'].astype(np.float),npz['targets'].astype(np.int)\n",
    "        \n",
    "        if batch_size is None:\n",
    "            self.batch_size = self.inputs.shape[0]\n",
    "        else:\n",
    "            self.batch_size = batch_size\n",
    "            self.batch.curr_batch = 0\n",
    "            self.batch_count = self.inputs.shape[0]// self.batch_size\n",
    "            \n",
    "    def _next_(self):\n",
    "        if self.curr_batch >= self.batch_count:\n",
    "            self.curr_batch = 0\n",
    "            raise StopIteration()\n",
    "            \n",
    "        batch_slice = slice(self.curr_batch * self_batch_size,(self.curr_batch + 1) * self.batch_size)\n",
    "        inputs_batch = self.inputs[batch_slice]\n",
    "        targets_batch = self.targets[batch_slice]\n",
    "        self.curr_batch += 1\n",
    "        \n",
    "        classes_num = 2\n",
    "        targets_one_hot = np.zeros((targets_batch.shape[0],classes_num))\n",
    "        targets_one_hot[range(targets_batch.shape[0]),targets_batch] = 1\n",
    "        \n",
    "        return inputs_batch,targets_one_hot\n",
    "    \n",
    "    def _iter_(self):\n",
    "        return self \n",
    "            "
   ]
  },
  {
   "cell_type": "markdown",
   "metadata": {},
   "source": [
    "### ML Algorithm"
   ]
  },
  {
   "cell_type": "code",
   "execution_count": 8,
   "metadata": {},
   "outputs": [
    {
     "name": "stderr",
     "output_type": "stream",
     "text": [
      "C:\\ProgramData\\Anaconda3\\lib\\site-packages\\tensorflow\\python\\client\\session.py:1735: UserWarning: An interactive session is already active. This can cause out-of-memory errors in some cases. You must explicitly call `InteractiveSession.close()` to release resources held by the other session(s).\n",
      "  warnings.warn('An interactive session is already active. This can '\n"
     ]
    },
    {
     "ename": "TypeError",
     "evalue": "audiobooks_data_reader() takes no arguments",
     "output_type": "error",
     "traceback": [
      "\u001b[1;31m---------------------------------------------------------------------------\u001b[0m",
      "\u001b[1;31mTypeError\u001b[0m                                 Traceback (most recent call last)",
      "\u001b[1;32m<ipython-input-8-822372fffbc8>\u001b[0m in \u001b[0;36m<module>\u001b[1;34m\u001b[0m\n\u001b[0;32m     47\u001b[0m \u001b[0mpre_validation_loss\u001b[0m \u001b[1;33m=\u001b[0m \u001b[1;36m9999999.\u001b[0m\u001b[1;33m\u001b[0m\u001b[1;33m\u001b[0m\u001b[0m\n\u001b[0;32m     48\u001b[0m \u001b[1;33m\u001b[0m\u001b[0m\n\u001b[1;32m---> 49\u001b[1;33m \u001b[0mtrain_data\u001b[0m \u001b[1;33m=\u001b[0m \u001b[0maudiobooks_data_reader\u001b[0m\u001b[1;33m(\u001b[0m\u001b[1;34m'train'\u001b[0m\u001b[1;33m,\u001b[0m \u001b[0mbatch_size\u001b[0m\u001b[1;33m)\u001b[0m\u001b[1;33m\u001b[0m\u001b[1;33m\u001b[0m\u001b[0m\n\u001b[0m\u001b[0;32m     50\u001b[0m \u001b[0mvalidation_data\u001b[0m \u001b[1;33m=\u001b[0m \u001b[0maudiobooks_data_reader\u001b[0m \u001b[1;33m(\u001b[0m\u001b[1;34m'validation'\u001b[0m\u001b[1;33m)\u001b[0m\u001b[1;33m\u001b[0m\u001b[1;33m\u001b[0m\u001b[0m\n\u001b[0;32m     51\u001b[0m \u001b[1;33m\u001b[0m\u001b[0m\n",
      "\u001b[1;31mTypeError\u001b[0m: audiobooks_data_reader() takes no arguments"
     ]
    }
   ],
   "source": [
    "import tensorflow as tf\n",
    "\n",
    "input_size = 10 \n",
    "output_size = 2\n",
    "hidden_layer_size = 50\n",
    "\n",
    "\n",
    "\n",
    "\n",
    "\n",
    "tf.reset_default_graph()\n",
    "\n",
    "\n",
    "inputs = tf.placeholder(tf.float32,[None, input_size])\n",
    "targets = tf.placeholder(tf.int32,[None, output_size])\n",
    "\n",
    "weights_1 = tf.get_variable(\"weights_1\",[input_size,hidden_layer_size])\n",
    "biases_1 = tf.get_variable(\"biases_1\",[hidden_layer_size])\n",
    "\n",
    "outputs_1 = tf.nn.relu(tf.matmul(inputs,weights_1) +biases_1)\n",
    "\n",
    "weights_2 = tf.get_variable(\"weights_2\",[hidden_layer_size,hidden_layer_size])\n",
    "biases_2 = tf.get_variable(\"biases_2\",[hidden_layer_size])\n",
    "\n",
    "outputs_2 = tf.nn.relu(tf.matmul(outputs_1,weights_2) +biases_2)\n",
    "\n",
    "weights_3 = tf.get_variable(\"weights_3\",[hidden_layer_size,output_size])\n",
    "biases_3 = tf.get_variable(\"biases_3\",[output_size])\n",
    "\n",
    "outputs = tf.matmul(outputs_2,weights_3) +biases_3\n",
    "\n",
    "loss = tf.nn.softmax_cross_entropy_with_logits(logits = outputs, labels = targets)\n",
    "mean_loss = tf.reduce_mean(loss)\n",
    "optimize = tf.train.AdamOptimizer(learning_rate=0.001).minimize(mean_loss)\n",
    "\n",
    "out_equals_target = tf.equal(tf.argmax(outputs,1), tf.argmax(targets,1))\n",
    "accuracy = tf.reduce_mean(tf.cast(out_equals_target, tf.float32))\n",
    "\n",
    "sess = tf.InteractiveSession()\n",
    "initializer = tf.global_variables_initializer()\n",
    "\n",
    "sess.run(initializer)\n",
    "\n",
    "batch_size = 100\n",
    "\n",
    "max_epochs = 50 \n",
    "pre_validation_loss = 9999999.\n",
    "\n",
    "train_data = audiobooks_data_reader('train', batch_size)\n",
    "validation_data = audiobooks_data_reader ('validation')\n",
    "  \n",
    "for epoch_counter in range(max_epoch):\n",
    "        \n",
    "    curr_epoc_loss = 0\n",
    "        \n",
    "    for input_batch,target_batch in train_data:\n",
    "        _, batch_loss = sess.run([optimize,mean_loss],feed_dict={inputs:input_batch, targets:target_batch})\n",
    "        curr_epoch_loss += batch_loss\n",
    "            \n",
    "        curr_epoch_loss /= train_data.batch_count\n",
    "        \n",
    "        validation_loss = 0.\n",
    "        validation_accuracy = 0\n",
    "        \n",
    "    for input_batch, target_batch in validation_data:\n",
    "        validation_loss,validation_acucuracy = sess.run([mean_loss,accurac],\n",
    "        feed_dict = {inputs: input_batch,targets: target_batch})\n",
    "        \n",
    "        \n",
    "    print('Epoch '+str(epoch_counter+1)+\n",
    "     '. Training loss:  '+'{0:.3f}'.format(curr_epoch_loss)+\n",
    "     '.Validation loss: '+'{0:.3f}'.format(validation_loss)+\n",
    "     '.Validation accuracy: '+'{0:.2f}'.format(validation_accuracy * 100.)+'%')\n",
    "    \n",
    "    if validation_loss > pre_validation_loss:\n",
    "        break\n",
    "        \n",
    "    pre_validation_loss = validation_loss\n",
    "    \n",
    "print(\"End of training.\")\n",
    "        \n",
    "        \n",
    "    \n"
   ]
  },
  {
   "cell_type": "code",
   "execution_count": null,
   "metadata": {},
   "outputs": [],
   "source": []
  },
  {
   "cell_type": "code",
   "execution_count": null,
   "metadata": {},
   "outputs": [],
   "source": []
  }
 ],
 "metadata": {
  "kernelspec": {
   "display_name": "Python 3",
   "language": "python",
   "name": "python3"
  },
  "language_info": {
   "codemirror_mode": {
    "name": "ipython",
    "version": 3
   },
   "file_extension": ".py",
   "mimetype": "text/x-python",
   "name": "python",
   "nbconvert_exporter": "python",
   "pygments_lexer": "ipython3",
   "version": "3.7.3"
  }
 },
 "nbformat": 4,
 "nbformat_minor": 2
}
