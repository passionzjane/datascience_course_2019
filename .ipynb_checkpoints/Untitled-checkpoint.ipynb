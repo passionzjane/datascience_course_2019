{
 "cells": [
  {
   "cell_type": "markdown",
   "metadata": {},
   "source": [
    "#Dot Product"
   ]
  },
  {
   "cell_type": "code",
   "execution_count": 1,
   "metadata": {},
   "outputs": [
    {
     "name": "stdout",
     "output_type": "stream",
     "text": [
      "50\n"
     ]
    }
   ],
   "source": [
    "import numpy as np\n",
    "\n",
    "print(np.dot(10, 5))"
   ]
  },
  {
   "cell_type": "code",
   "execution_count": 5,
   "metadata": {},
   "outputs": [
    {
     "name": "stdout",
     "output_type": "stream",
     "text": [
      "34\n"
     ]
    }
   ],
   "source": [
    "a = np.array ([2, 4 ], np.uint8)\n",
    "b = np.array ([5, 6 ], np.uint8)\n",
    "     \n",
    "print(np.dot(a, b))"
   ]
  },
  {
   "cell_type": "code",
   "execution_count": 6,
   "metadata": {},
   "outputs": [
    {
     "name": "stdout",
     "output_type": "stream",
     "text": [
      "[[46 24]\n",
      " [97 54]]\n"
     ]
    }
   ],
   "source": [
    "a = np.array ([[2, 4 ], [5, 8]], np.uint8)\n",
    "b = np.array ([[5, 6 ], [9, 3]], np.uint8)\n",
    "\n",
    "print(np.dot(a, b))"
   ]
  },
  {
   "cell_type": "code",
   "execution_count": 8,
   "metadata": {},
   "outputs": [
    {
     "name": "stdout",
     "output_type": "stream",
     "text": [
      "[[1.68655624 1.8396408  2.12601808 0.79275486]\n",
      " [2.75207673 2.9801852  3.45315244 1.31094722]\n",
      " [2.48456642 2.72594909 3.14368543 1.15516356]\n",
      " [1.21231661 1.30164208 1.51290281 0.58641119]\n",
      " [1.79475916 1.99597436 2.29071997 0.81296972]\n",
      " [1.84427041 2.02379285 2.33378417 0.85719004]\n",
      " [2.23352598 2.4626611  2.83501855 1.02873322]\n",
      " [2.18505787 2.34402486 2.72532802 1.0585623 ]\n",
      " [3.18025222 3.45147419 3.99603598 1.50880933]\n",
      " [1.98699017 2.1986808  2.52788822 0.90890458]]\n"
     ]
    }
   ],
   "source": [
    "a = np.random.rand(10, 5)\n",
    "b = np.random.rand(5, 2)\n",
    "c = np.random.rand(2, 3)\n",
    "d = np.random.rand(3, 4)\n",
    "\n",
    "e = np.linalg.multi_dot([a, b, c, d])\n",
    "print(e)"
   ]
  },
  {
   "cell_type": "markdown",
   "metadata": {},
   "source": [
    "#HoW DO U KNW THE NUMBER OF ROWS AND COLUMNS TO B ACHIEVED"
   ]
  },
  {
   "cell_type": "markdown",
   "metadata": {},
   "source": [
    "#Vector Dot Product"
   ]
  },
  {
   "cell_type": "code",
   "execution_count": 11,
   "metadata": {},
   "outputs": [
    {
     "name": "stdout",
     "output_type": "stream",
     "text": [
      "11\n"
     ]
    }
   ],
   "source": [
    "a = np.array ([1, 2 ])\n",
    "b = np.array ([3, 4 ])\n",
    "\n",
    "print(np.vdot(a, b))"
   ]
  },
  {
   "cell_type": "code",
   "execution_count": 12,
   "metadata": {},
   "outputs": [
    {
     "name": "stdout",
     "output_type": "stream",
     "text": [
      "(42-11j)\n"
     ]
    }
   ],
   "source": [
    "a = np.array ([1 + 5j, 2 + 3j ])\n",
    "b = np.array ([3 + 2j, 4 +7j ])\n",
    "\n",
    "print(np.vdot(a, b))"
   ]
  },
  {
   "cell_type": "code",
   "execution_count": 13,
   "metadata": {},
   "outputs": [
    {
     "name": "stdout",
     "output_type": "stream",
     "text": [
      "(42+11j)\n"
     ]
    }
   ],
   "source": [
    "print(np.vdot(b, a))"
   ]
  },
  {
   "cell_type": "markdown",
   "metadata": {},
   "source": [
    "#Inner Product"
   ]
  },
  {
   "cell_type": "code",
   "execution_count": 14,
   "metadata": {},
   "outputs": [
    {
     "name": "stdout",
     "output_type": "stream",
     "text": [
      "12\n"
     ]
    }
   ],
   "source": [
    "a = np.array ([1, 2, 3, 4, 5, 6 ])\n",
    "b = np.array ([0, 1, 0, 1, 0, 1 ])\n",
    "\n",
    "print(np.inner(a, b))"
   ]
  },
  {
   "cell_type": "code",
   "execution_count": 15,
   "metadata": {},
   "outputs": [
    {
     "name": "stdout",
     "output_type": "stream",
     "text": [
      "[[ 2  4]\n",
      " [ 5 10]]\n"
     ]
    }
   ],
   "source": [
    "a = np.array ([[1, 2, 3], [ 4, 5, 6]])\n",
    "b = np.array ([[0, 1, 0], [1, 0, 1]])\n",
    "\n",
    "print(np.inner(a, b))"
   ]
  },
  {
   "cell_type": "markdown",
   "metadata": {},
   "source": [
    "#QR Decomposition"
   ]
  },
  {
   "cell_type": "code",
   "execution_count": null,
   "metadata": {},
   "outputs": [],
   "source": []
  }
 ],
 "metadata": {
  "kernelspec": {
   "display_name": "Python 3",
   "language": "python",
   "name": "python3"
  },
  "language_info": {
   "codemirror_mode": {
    "name": "ipython",
    "version": 3
   },
   "file_extension": ".py",
   "mimetype": "text/x-python",
   "name": "python",
   "nbconvert_exporter": "python",
   "pygments_lexer": "ipython3",
   "version": "3.7.3"
  }
 },
 "nbformat": 4,
 "nbformat_minor": 2
}
