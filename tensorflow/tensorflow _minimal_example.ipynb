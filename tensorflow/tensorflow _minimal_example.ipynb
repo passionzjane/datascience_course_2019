{
 "cells": [
  {
   "cell_type": "code",
   "execution_count": 10,
   "metadata": {},
   "outputs": [],
   "source": [
    "import numpy as np\n",
    "import matplotlib.pyplot as plt\n",
    "import tensorflow as tf"
   ]
  },
  {
   "cell_type": "code",
   "execution_count": 11,
   "metadata": {},
   "outputs": [],
   "source": [
    "observations = 1000 \n",
    "\n",
    "xs = np.random.uniform(low=-10,high=10,size=(observations,1))\n",
    "zs = np.random.uniform(-10,10,(observations,1))\n",
    "\n",
    "generated_inputs = np.column_stack((xs,zs))\n",
    "\n",
    "noise = np.random.uniform(-1,1,(observations,1))\n",
    "generated_targets = 2*xs -3*zs + 5 + noise\n",
    "\n",
    "np.savez('TF_intro',inputs=generated_inputs, targets=generated_targets )\n"
   ]
  },
  {
   "cell_type": "markdown",
   "metadata": {},
   "source": [
    "### solving with tensorflow"
   ]
  },
  {
   "cell_type": "code",
   "execution_count": 12,
   "metadata": {},
   "outputs": [],
   "source": [
    "input_size=2\n",
    "output_size=1"
   ]
  },
  {
   "cell_type": "markdown",
   "metadata": {},
   "source": [
    "### outline the model"
   ]
  },
  {
   "cell_type": "code",
   "execution_count": 16,
   "metadata": {},
   "outputs": [],
   "source": [
    "inputs = tf.placeholder(tf.float32,[None,input_size])\n",
    "targets = tf.placeholder(tf.float32,[None,output_size])\n",
    "\n",
    "weights = tf.Variable(tf.random_uniform([input_size,output_size],minval=-0.1,maxval = 0.1))\n",
    "biases = tf.Variable(tf.random_uniform([output_size],minval=-0.1,maxval=0.1))\n",
    "\n",
    "outputs = tf.matmul(inputs,weights) + biases"
   ]
  },
  {
   "cell_type": "markdown",
   "metadata": {},
   "source": [
    "### choosing the objective function and the optimization method "
   ]
  },
  {
   "cell_type": "code",
   "execution_count": 17,
   "metadata": {},
   "outputs": [
    {
     "name": "stdout",
     "output_type": "stream",
     "text": [
      "WARNING:tensorflow:From C:\\ProgramData\\Anaconda3\\lib\\site-packages\\tensorflow\\python\\ops\\losses\\losses_impl.py:121: add_dispatch_support.<locals>.wrapper (from tensorflow.python.ops.array_ops) is deprecated and will be removed in a future version.\n",
      "Instructions for updating:\n",
      "Use tf.where in 2.0, which has the same broadcast rule as np.where\n"
     ]
    }
   ],
   "source": [
    "mean_loss = tf.losses.mean_squared_error(labels=targets, predictions=outputs) / 2.\n",
    "\n",
    "optimize = tf.train.GradientDescentOptimizer(learning_rate=0.05).minimize(mean_loss)"
   ]
  },
  {
   "cell_type": "markdown",
   "metadata": {},
   "source": [
    "### prepare for execution"
   ]
  },
  {
   "cell_type": "code",
   "execution_count": 21,
   "metadata": {},
   "outputs": [],
   "source": [
    "sess = tf.InteractiveSession()"
   ]
  },
  {
   "cell_type": "markdown",
   "metadata": {},
   "source": [
    "### initializing"
   ]
  },
  {
   "cell_type": "code",
   "execution_count": 23,
   "metadata": {},
   "outputs": [],
   "source": [
    "initializer = tf.global_variables_initializer()\n",
    "    \n",
    "sess.run(initializer)"
   ]
  },
  {
   "cell_type": "markdown",
   "metadata": {},
   "source": [
    "### loading training data "
   ]
  },
  {
   "cell_type": "code",
   "execution_count": 24,
   "metadata": {},
   "outputs": [],
   "source": [
    "training_data = np.load('TF_intro.npz')"
   ]
  },
  {
   "cell_type": "markdown",
   "metadata": {},
   "source": [
    "### Learning"
   ]
  },
  {
   "cell_type": "code",
   "execution_count": 26,
   "metadata": {
    "scrolled": true
   },
   "outputs": [
    {
     "name": "stdout",
     "output_type": "stream",
     "text": [
      "213.66707\n",
      "88.243286\n",
      "40.340656\n",
      "21.267052\n",
      "13.216577\n",
      "9.516722\n",
      "7.600223\n",
      "6.4515343\n",
      "5.657047\n",
      "5.042797\n",
      "4.5326858\n",
      "4.0915823\n",
      "3.7019532\n",
      "3.3540597\n",
      "3.0417492\n",
      "2.760628\n",
      "2.5072455\n",
      "2.2787154\n",
      "2.072528\n",
      "1.886471\n",
      "1.7185656\n",
      "1.5670335\n",
      "1.4302764\n",
      "1.306851\n",
      "1.1954584\n",
      "1.0949248\n",
      "1.004191\n",
      "0.92230284\n",
      "0.84839696\n",
      "0.7816958\n",
      "0.7214969\n",
      "0.66716594\n",
      "0.61813104\n",
      "0.5738763\n",
      "0.5339361\n",
      "0.49788865\n",
      "0.46535534\n",
      "0.43599385\n",
      "0.40949425\n",
      "0.38557816\n",
      "0.36399287\n",
      "0.34451208\n",
      "0.32693028\n",
      "0.31106263\n",
      "0.29674137\n",
      "0.2838166\n",
      "0.27215177\n",
      "0.2616239\n",
      "0.2521223\n",
      "0.24354672\n",
      "0.23580733\n",
      "0.22882228\n",
      "0.22251832\n",
      "0.21682861\n",
      "0.21169372\n",
      "0.20705935\n",
      "0.20287684\n",
      "0.1991019\n",
      "0.19569504\n",
      "0.19262025\n",
      "0.18984513\n",
      "0.18734059\n",
      "0.18508017\n",
      "0.18304017\n",
      "0.181199\n",
      "0.17953731\n",
      "0.1780376\n",
      "0.17668405\n",
      "0.17546244\n",
      "0.17435998\n",
      "0.17336494\n",
      "0.17246692\n",
      "0.17165646\n",
      "0.17092502\n",
      "0.17026483\n",
      "0.16966906\n",
      "0.16913125\n",
      "0.168646\n",
      "0.168208\n",
      "0.16781273\n",
      "0.1674559\n",
      "0.16713397\n",
      "0.16684332\n",
      "0.16658108\n",
      "0.16634426\n",
      "0.16613068\n",
      "0.16593784\n",
      "0.16576385\n",
      "0.16560678\n",
      "0.16546507\n",
      "0.16533716\n",
      "0.16522166\n",
      "0.16511749\n",
      "0.16502346\n",
      "0.1649386\n",
      "0.16486198\n",
      "0.16479284\n",
      "0.1647305\n",
      "0.16467413\n",
      "0.16462326\n"
     ]
    }
   ],
   "source": [
    "for e in range(100):\n",
    "    \n",
    "    _, curr_loss = sess.run([optimize, mean_loss],\n",
    "                           feed_dict={inputs: training_data['inputs'],targets: training_data['targets']})\n",
    "    \n",
    "    print (curr_loss)"
   ]
  },
  {
   "cell_type": "code",
   "execution_count": 27,
   "metadata": {},
   "outputs": [
    {
     "data": {
      "image/png": "[encoded data removed]",
      "text/plain": [
       "<Figure size 432x288 with 1 Axes>"
      ]
     },
     "metadata": {
      "needs_background": "light"
     },
     "output_type": "display_data"
    }
   ],
   "source": [
    "out = sess.run([outputs],\n",
    "              feed_dict={inputs: training_data['inputs']})\n",
    "plt.plot(np.squeeze(out),np.squeeze(training_data['targets']))\n",
    "plt.xlabel('outputs')\n",
    "plt.ylabel('targets')\n",
    "plt.show()"
   ]
  },
  {
   "cell_type": "code",
   "execution_count": null,
   "metadata": {},
   "outputs": [],
   "source": []
  },
  {
   "cell_type": "code",
   "execution_count": null,
   "metadata": {},
   "outputs": [],
   "source": []
  }
 ],
 "metadata": {
  "kernelspec": {
   "display_name": "Python 3",
   "language": "python",
   "name": "python3"
  },
  "language_info": {
   "codemirror_mode": {
    "name": "ipython",
    "version": 3
   },
   "file_extension": ".py",
   "mimetype": "text/x-python",
   "name": "python",
   "nbconvert_exporter": "python",
   "pygments_lexer": "ipython3",
   "version": "3.7.3"
  }
 },
 "nbformat": 4,
 "nbformat_minor": 2
}
