{
 "cells": [
  {
   "cell_type": "code",
   "execution_count": 1,
   "metadata": {},
   "outputs": [],
   "source": [
    "import numpy as np "
   ]
  },
  {
   "cell_type": "code",
   "execution_count": 4,
   "metadata": {},
   "outputs": [
    {
     "name": "stdout",
     "output_type": "stream",
     "text": [
      "[8 1 3 3 8 0 7 3 4 4]\n"
     ]
    }
   ],
   "source": [
    "x = np.random.randint(low = 0, high = 9, size = 10)\n",
    "print(x)"
   ]
  },
  {
   "cell_type": "code",
   "execution_count": 5,
   "metadata": {},
   "outputs": [
    {
     "name": "stdout",
     "output_type": "stream",
     "text": [
      "[[0.99335455 0.61373702 0.28186816]\n",
      " [0.96949039 0.25239653 0.86964572]\n",
      " [0.00843897 0.77428108 0.87327809]]\n"
     ]
    }
   ],
   "source": [
    "x = np.random.rand(3, 3)\n",
    "print(x)"
   ]
  },
  {
   "cell_type": "code",
   "execution_count": 6,
   "metadata": {},
   "outputs": [
    {
     "name": "stdout",
     "output_type": "stream",
     "text": [
      "[[[0.72453324 0.23510649 0.6011388 ]\n",
      "  [0.32740225 0.18002157 0.96221833]\n",
      "  [0.11681948 0.15316186 0.82956499]]\n",
      "\n",
      " [[0.83278942 0.84862732 0.21717351]\n",
      "  [0.05653758 0.67159207 0.53686143]\n",
      "  [0.14731225 0.21579796 0.53308967]]\n",
      "\n",
      " [[0.18088546 0.13174724 0.39531191]\n",
      "  [0.73755063 0.66246564 0.46767111]\n",
      "  [0.1824682  0.15378645 0.24018941]]]\n"
     ]
    }
   ],
   "source": [
    "x = np.random.rand(3, 3, 3)\n",
    "print(x)"
   ]
  },
  {
   "cell_type": "code",
   "execution_count": 7,
   "metadata": {},
   "outputs": [
    {
     "name": "stdout",
     "output_type": "stream",
     "text": [
      "[[[[[0.13859827 0.81663251]\n",
      "    [0.10940866 0.49971897]]\n",
      "\n",
      "   [[0.35643705 0.50982803]\n",
      "    [0.90659036 0.86239468]]]\n",
      "\n",
      "\n",
      "  [[[0.27300478 0.29249353]\n",
      "    [0.83009293 0.5877686 ]]\n",
      "\n",
      "   [[0.90965114 0.30413647]\n",
      "    [0.42601327 0.3555431 ]]]]\n",
      "\n",
      "\n",
      "\n",
      " [[[[0.55766843 0.43534898]\n",
      "    [0.8332037  0.96757941]]\n",
      "\n",
      "   [[0.65777577 0.43962067]\n",
      "    [0.64017446 0.76945255]]]\n",
      "\n",
      "\n",
      "  [[[0.97288896 0.42392412]\n",
      "    [0.94007934 0.79255091]]\n",
      "\n",
      "   [[0.85574326 0.33178313]\n",
      "    [0.07476132 0.53345721]]]]]\n"
     ]
    }
   ],
   "source": [
    "x = np.random.rand(2, 2, 2, 2, 2)\n",
    "print(x)"
   ]
  }
 ],
 "metadata": {
  "kernelspec": {
   "display_name": "Python 3",
   "language": "python",
   "name": "python3"
  },
  "language_info": {
   "codemirror_mode": {
    "name": "ipython",
    "version": 3
   },
   "file_extension": ".py",
   "mimetype": "text/x-python",
   "name": "python",
   "nbconvert_exporter": "python",
   "pygments_lexer": "ipython3",
   "version": "3.7.3"
  }
 },
 "nbformat": 4,
 "nbformat_minor": 2
}
