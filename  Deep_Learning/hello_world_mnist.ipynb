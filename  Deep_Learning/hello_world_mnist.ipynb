{
 "cells": [
  {
   "cell_type": "code",
   "execution_count": 7,
   "metadata": {},
   "outputs": [
    {
     "ename": "NameError",
     "evalue": "name 'InteractiveSession' is not defined",
     "output_type": "error",
     "traceback": [
      "\u001b[1;31m---------------------------------------------------------------------------\u001b[0m",
      "\u001b[1;31mNameError\u001b[0m                                 Traceback (most recent call last)",
      "\u001b[1;32m<ipython-input-7-9f61b5eb2f0f>\u001b[0m in \u001b[0;36m<module>\u001b[1;34m\u001b[0m\n\u001b[1;32m----> 1\u001b[1;33m \u001b[0mInteractiveSession\u001b[0m\u001b[1;33m.\u001b[0m\u001b[0mclose\u001b[0m\u001b[1;33m(\u001b[0m\u001b[1;33m)\u001b[0m\u001b[1;33m\u001b[0m\u001b[1;33m\u001b[0m\u001b[0m\n\u001b[0m",
      "\u001b[1;31mNameError\u001b[0m: name 'InteractiveSession' is not defined"
     ]
    }
   ],
   "source": []
  },
  {
   "cell_type": "code",
   "execution_count": 2,
   "metadata": {},
   "outputs": [
    {
     "name": "stdout",
     "output_type": "stream",
     "text": [
      "Extracting MNIST_data/train-images-idx3-ubyte.gz\n",
      "Extracting MNIST_data/train-labels-idx1-ubyte.gz\n",
      "Extracting MNIST_data/t10k-images-idx3-ubyte.gz\n",
      "Extracting MNIST_data/t10k-labels-idx1-ubyte.gz\n"
     ]
    }
   ],
   "source": [
    "import numpy as np\n",
    "import tensorflow as tf\n",
    "from tensorflow.examples.tutorials.mnist import input_data\n",
    "\n",
    "mnist = input_data.read_data_sets(\"MNIST_data/\",one_hot=True)\n"
   ]
  },
  {
   "cell_type": "code",
   "execution_count": null,
   "metadata": {},
   "outputs": [
    {
     "name": "stdout",
     "output_type": "stream",
     "text": [
      "WARNING:tensorflow:From C:\\ProgramData\\Anaconda3\\lib\\site-packages\\tensorflow\\python\\ops\\init_ops.py:1251: calling VarianceScaling.__init__ (from tensorflow.python.ops.init_ops) with dtype is deprecated and will be removed in a future version.\n",
      "Instructions for updating:\n",
      "Call initializer instance with the dtype argument instead of passing it to the constructor\n",
      "WARNING:tensorflow:From <ipython-input-3-15c3d3c73edb>:30: softmax_cross_entropy_with_logits (from tensorflow.python.ops.nn_ops) is deprecated and will be removed in a future version.\n",
      "Instructions for updating:\n",
      "\n",
      "Future major versions of TensorFlow will allow gradients to flow\n",
      "into the labels input on backprop by default.\n",
      "\n",
      "See `tf.nn.softmax_cross_entropy_with_logits_v2`.\n",
      "\n",
      "Epoch 1. Training loss:  0.423.Validation loss: 0.219.Validation accuracy: 93.80%\n",
      "Epoch 2. Training loss:  0.200.Validation loss: 0.165.Validation accuracy: 95.52%\n",
      "Epoch 3. Training loss:  0.152.Validation loss: 0.136.Validation accuracy: 95.98%\n"
     ]
    }
   ],
   "source": [
    "input_size = 784\n",
    "output_size = 10\n",
    "hidden_layer_size = 50\n",
    "\n",
    "\n",
    "\n",
    "\n",
    "\n",
    "tf.reset_default_graph()\n",
    "\n",
    "\n",
    "inputs = tf.placeholder(tf.float32,[None, input_size])\n",
    "targets = tf.placeholder(tf.float32,[None, output_size])\n",
    "\n",
    "weights_1 = tf.get_variable(\"weights_1\",[input_size,hidden_layer_size])\n",
    "biases_1 = tf.get_variable(\"biases_1\",[hidden_layer_size])\n",
    "\n",
    "outputs_1 = tf.nn.relu(tf.matmul(inputs,weights_1) +biases_1)\n",
    "\n",
    "weights_2 = tf.get_variable(\"weights_2\",[hidden_layer_size,hidden_layer_size])\n",
    "biases_2 = tf.get_variable(\"biases_2\",[hidden_layer_size])\n",
    "\n",
    "outputs_2 = tf.nn.relu(tf.matmul(outputs_1,weights_2) +biases_2)\n",
    "\n",
    "weights_3 = tf.get_variable(\"weights_3\",[hidden_layer_size,output_size])\n",
    "biases_3 = tf.get_variable(\"biases_3\",[output_size])\n",
    "\n",
    "outputs = tf.matmul(outputs_2,weights_3) +biases_3\n",
    "\n",
    "loss = tf.nn.softmax_cross_entropy_with_logits(logits = outputs, labels = targets)\n",
    "mean_loss = tf.reduce_mean(loss)\n",
    "optimize = tf.train.AdamOptimizer(learning_rate=0.001).minimize(mean_loss)\n",
    "\n",
    "out_equals_target = tf.equal(tf.argmax(outputs,1), tf.argmax(targets,1))\n",
    "accuracy = tf.reduce_mean(tf.cast(out_equals_target, tf.float32))\n",
    "\n",
    "sess = tf.InteractiveSession()\n",
    "initializer = tf.global_variables_initializer()\n",
    "\n",
    "sess.run(initializer)\n",
    "\n",
    "batch_size = 100\n",
    "batch_number = mnist.train._num_examples // batch_size\n",
    "\n",
    "max_epochs = 15\n",
    "pre_validation_loss = 9999999.\n",
    "for epoch_counter in range(max_epochs):\n",
    "    curr_epoch_loss = 0.\n",
    "    for batch_counter in range (batch_number):\n",
    "        input_batch,target_batch = mnist.train.next_batch(batch_size)\n",
    "        _, batch_loss = sess.run([optimize,mean_loss],feed_dict={inputs:input_batch, targets:target_batch})\n",
    "        curr_epoch_loss += batch_loss\n",
    "        \n",
    "    curr_epoch_loss /= batch_number\n",
    "    \n",
    "    input_batch, target_batch = mnist.validation.next_batch(mnist.validation._num_examples)\n",
    "    \n",
    "    validation_loss, validation_accuracy = sess.run([mean_loss,accuracy],\n",
    "                                            feed_dict={inputs: input_batch,targets:target_batch})\n",
    "    \n",
    "    print('Epoch '+str(epoch_counter+1)+\n",
    "     '. Training loss:  '+'{0:.3f}'.format(curr_epoch_loss)+\n",
    "     '.Validation loss: '+'{0:.3f}'.format(validation_loss)+\n",
    "     '.Validation accuracy: '+'{0:.2f}'.format(validation_accuracy * 100.)+'%')\n",
    "    \n",
    "    if validation_loss > pre_validation_loss:\n",
    "        break\n",
    "        \n",
    "    pre_validation_loss = validation_loss\n",
    "    \n",
    "print(\"End of training.\")\n",
    "\n",
    "       \n",
    "    \n"
   ]
  },
  {
   "cell_type": "markdown",
   "metadata": {},
   "source": [
    "### Test"
   ]
  },
  {
   "cell_type": "code",
   "execution_count": 5,
   "metadata": {},
   "outputs": [
    {
     "ename": "SyntaxError",
     "evalue": "invalid syntax (<ipython-input-5-447e6e7a0456>, line 2)",
     "output_type": "error",
     "traceback": [
      "\u001b[1;36m  File \u001b[1;32m\"<ipython-input-5-447e6e7a0456>\"\u001b[1;36m, line \u001b[1;32m2\u001b[0m\n\u001b[1;33m    test_accuracy = sess.run([accuracy],feed_dict{inputs:input_batch,targets:target_batch})\u001b[0m\n\u001b[1;37m                                                 ^\u001b[0m\n\u001b[1;31mSyntaxError\u001b[0m\u001b[1;31m:\u001b[0m invalid syntax\n"
     ]
    }
   ],
   "source": [
    "input_batch, target_batch = mnist.test.next_batch(mnist.test._num_examples)\n",
    "test_accuracy = sess.run([accuracy],feed_dict{inputs:input_batch,targets:target_batch})\n",
    "\n",
    "test_accuracy-percent = test_accuracy[0]*100.\n",
    "\n",
    "print(\"Test accuraciny: '+' {0:.2f}\",format(test_accuracy_percent)+'%')\n",
    "\n"
   ]
  }
 ],
 "metadata": {
  "kernelspec": {
   "display_name": "Python 3",
   "language": "python",
   "name": "python3"
  },
  "language_info": {
   "codemirror_mode": {
    "name": "ipython",
    "version": 3
   },
   "file_extension": ".py",
   "mimetype": "text/x-python",
   "name": "python",
   "nbconvert_exporter": "python",
   "pygments_lexer": "ipython3",
   "version": "3.7.3"
  }
 },
 "nbformat": 4,
 "nbformat_minor": 2
}
